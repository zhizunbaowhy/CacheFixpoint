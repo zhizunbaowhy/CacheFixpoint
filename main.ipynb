{
 "cells": [
  {
   "cell_type": "code",
   "execution_count": 1,
   "metadata": {
    "collapsed": true,
    "ExecuteTime": {
     "start_time": "2023-04-02T21:35:20.089666Z",
     "end_time": "2023-04-02T21:35:20.101568Z"
    }
   },
   "outputs": [
    {
     "name": "stdout",
     "output_type": "stream",
     "text": [
      "sys.version_info(major=3, minor=11, micro=2, releaselevel='final', serial=0)\n"
     ]
    }
   ],
   "source": [
    "from fixpoint import *\n",
    "\n",
    "import sys\n",
    "print(sys.version_info)"
   ]
  },
  {
   "cell_type": "code",
   "execution_count": 2,
   "outputs": [
    {
     "name": "stdout",
     "output_type": "stream",
     "text": [
      "==== Cache Config ====\n",
      "Set index length: 8\n",
      "Cache offset: 6\n",
      "Cache association: 4\n",
      "\n",
      "==== TCFG ====\n",
      "n0 access ['<MemBlk tag:0x0 idx:0x1d>', '<MemBlk tag:0x0 idx:0x1e>', '<MemBlk tag:0x0 idx:0x1e>', '<MemBlk tag:0x0 idx:0x1e>', '<MemBlk tag:0x0 idx:0x1e>', '<MemBlk tag:0x0 idx:0x1e>', '<MemBlk tag:0x4 idx:0x3f>', '<MemBlk tag:0x4 idx:0x3f>', '<MemBlk tag:0x4 idx:0x3f>', '<MemBlk tag:0x4 idx:0x3f>', '<MemBlk tag:0x4 idx:0x3f>', '<MemBlk tag:0x4 idx:0x3f>', '<MemBlk tag:0x4 idx:0x3f>', '<MemBlk tag:0x4 idx:0x3f>', '<MemBlk tag:0x4 idx:0x3f>', '<MemBlk tag:0x0 idx:0x1e>', '<MemBlk tag:0x0 idx:0x1e>', '<MemBlk tag:0x4 idx:0x0>', '<MemBlk tag:0x4 idx:0x0>', '<MemBlk tag:0x4 idx:0x0>', '<MemBlk tag:0x4 idx:0x0>', '<MemBlk tag:0x4 idx:0x0>', '<MemBlk tag:0x4 idx:0x0>', '<MemBlk tag:0x4 idx:0x0>', '<MemBlk tag:0x4 idx:0x0>', '<MemBlk tag:0x4 idx:0x0>', '<MemBlk tag:0x0 idx:0x1e>', '<MemBlk tag:0x0 idx:0x1e>', '<MemBlk tag:0x4 idx:0x3f>', '<MemBlk tag:0x4 idx:0x3f>', '<MemBlk tag:0x4 idx:0x3f>', '<MemBlk tag:0x4 idx:0x3f>', '<MemBlk tag:0x4 idx:0x3f>', '<MemBlk tag:0x4 idx:0x3f>', '<MemBlk tag:0x4 idx:0x3f>', '<MemBlk tag:0x4 idx:0x3f>', '<MemBlk tag:0x4 idx:0x3f>', '<MemBlk tag:0x0 idx:0x1e>', '<MemBlk tag:0x4 idx:0x0>', '<MemBlk tag:0x4 idx:0x0>', '<MemBlk tag:0x4 idx:0x0>', '<MemBlk tag:0x4 idx:0x0>', '<MemBlk tag:0x4 idx:0x0>', '<MemBlk tag:0x4 idx:0x0>', '<MemBlk tag:0x4 idx:0x0>', '<MemBlk tag:0x4 idx:0x0>', '<MemBlk tag:0x4 idx:0x0>', '<MemBlk tag:0x0 idx:0x1e>', '<MemBlk tag:0x0 idx:0x1e>', '<MemBlk tag:0x4 idx:0x3f>', '<MemBlk tag:0x4 idx:0x3f>', '<MemBlk tag:0x4 idx:0x3f>', '<MemBlk tag:0x4 idx:0x3f>', '<MemBlk tag:0x4 idx:0x3f>', '<MemBlk tag:0x4 idx:0x3f>', '<MemBlk tag:0x4 idx:0x3f>', '<MemBlk tag:0x4 idx:0x3f>', '<MemBlk tag:0x4 idx:0x3f>', '<MemBlk tag:0x0 idx:0x1e>'] incoming [] outgoing ['n3']\n",
      "n1 access ['<MemBlk tag:0x0 idx:0x1e>', '<MemBlk tag:0x0 idx:0x1e>', '<MemBlk tag:0x4 idx:0x3f>', '<MemBlk tag:0x4 idx:0x3f>', '<MemBlk tag:0x4 idx:0x3f>', '<MemBlk tag:0x4 idx:0x3f>', '<MemBlk tag:0x4 idx:0x3f>', '<MemBlk tag:0x4 idx:0x3f>', '<MemBlk tag:0x4 idx:0x3f>', '<MemBlk tag:0x4 idx:0x3f>', '<MemBlk tag:0x4 idx:0x3f>', '<MemBlk tag:0x0 idx:0x1e>', '<MemBlk tag:0x0 idx:0x1f>', '<MemBlk tag:0x5 idx:0x7d>', '<MemBlk tag:0x5 idx:0x7d>', '<MemBlk tag:0x5 idx:0x7d>', '<MemBlk tag:0x5 idx:0x7d>', '<MemBlk tag:0x5 idx:0x7d>', '<MemBlk tag:0x5 idx:0x7d>', '<MemBlk tag:0x5 idx:0x7d>', '<MemBlk tag:0x5 idx:0x7d>', '<MemBlk tag:0x5 idx:0x7d>', '<MemBlk tag:0x0 idx:0x1f>', '<MemBlk tag:0x0 idx:0x1f>', '<MemBlk tag:0x0 idx:0x1f>'] incoming ['n13'] outgoing ['n14']\n",
      "n2 access ['<MemBlk tag:0x0 idx:0x1f>', '<MemBlk tag:0x0 idx:0x1f>', '<MemBlk tag:0x0 idx:0x1f>'] incoming ['n14'] outgoing []\n",
      "n3 access ['<MemBlk tag:0x0 idx:0x1f>', '<MemBlk tag:0x0 idx:0x1f>', '<MemBlk tag:0x0 idx:0x1f>', '<MemBlk tag:0x0 idx:0x1f>', '<MemBlk tag:0x0 idx:0x1f>'] incoming ['n0'] outgoing ['n12']\n",
      "n4 access ['<MemBlk tag:0x0 idx:0x1f>', '<MemBlk tag:0x0 idx:0x1f>'] incoming ['n12'] outgoing ['n10']\n",
      "n5 access ['<MemBlk tag:0x0 idx:0x1f>', '<MemBlk tag:0x0 idx:0x1f>'] incoming ['n10'] outgoing ['n8']\n",
      "n6 access ['<MemBlk tag:0x0 idx:0x20>', '<MemBlk tag:0x0 idx:0x20>', '<MemBlk tag:0x0 idx:0x20>', '<MemBlk tag:0x0 idx:0x20>', '<MemBlk tag:0x0 idx:0x20>'] incoming ['n8'] outgoing ['n15']\n",
      "n7 access ['<MemBlk tag:0x0 idx:0x20>', '<MemBlk tag:0x0 idx:0x20>', '<MemBlk tag:0x0 idx:0x20>'] incoming ['n15'] outgoing ['n8']\n",
      "n8 access ['<MemBlk tag:0x0 idx:0x20>', '<MemBlk tag:0x0 idx:0x20>', '<MemBlk tag:0x0 idx:0x20>'] incoming ['n5', 'n7'] outgoing ['n6', 'n9']\n",
      "n9 access ['<MemBlk tag:0x0 idx:0x20>', '<MemBlk tag:0x0 idx:0x20>', '<MemBlk tag:0x0 idx:0x20>'] incoming ['n8'] outgoing ['n10']\n",
      "n10 access ['<MemBlk tag:0x0 idx:0x20>', '<MemBlk tag:0x0 idx:0x20>', '<MemBlk tag:0x0 idx:0x21>'] incoming ['n4', 'n9'] outgoing ['n5', 'n11']\n",
      "n11 access ['<MemBlk tag:0x0 idx:0x21>', '<MemBlk tag:0x0 idx:0x21>', '<MemBlk tag:0x0 idx:0x21>'] incoming ['n10'] outgoing ['n12']\n",
      "n12 access ['<MemBlk tag:0x0 idx:0x21>', '<MemBlk tag:0x0 idx:0x21>', '<MemBlk tag:0x0 idx:0x21>'] incoming ['n3', 'n11'] outgoing ['n4', 'n13']\n",
      "n13 access ['<MemBlk tag:0x0 idx:0x21>', '<MemBlk tag:0x0 idx:0x21>', '<MemBlk tag:0x0 idx:0x21>', '<MemBlk tag:0x0 idx:0x21>'] incoming ['n12'] outgoing ['n1']\n",
      "n14 access ['<MemBlk tag:0x0 idx:0x19>', '<MemBlk tag:0x0 idx:0x19>', '<MemBlk tag:0x4 idx:0x3e>', '<MemBlk tag:0x4 idx:0x3e>', '<MemBlk tag:0x4 idx:0x3e>', '<MemBlk tag:0x4 idx:0x3e>', '<MemBlk tag:0x4 idx:0x3e>', '<MemBlk tag:0x4 idx:0x3e>', '<MemBlk tag:0x4 idx:0x3e>', '<MemBlk tag:0x4 idx:0x3e>', '<MemBlk tag:0x4 idx:0x3e>', '<MemBlk tag:0x0 idx:0x19>', '<MemBlk tag:0x0 idx:0x19>'] incoming ['n1'] outgoing ['n2']\n",
      "n15 access ['<MemBlk tag:0x0 idx:0x22>', '<MemBlk tag:0x0 idx:0x22>', '<MemBlk tag:0x0 idx:0x22>', '<MemBlk tag:0x0 idx:0x22>', '<MemBlk tag:0x0 idx:0x22>', '<MemBlk tag:0x0 idx:0x23>', '<MemBlk tag:0x0 idx:0x23>', '<MemBlk tag:0x0 idx:0x23>', '<MemBlk tag:0x0 idx:0x23>', '<MemBlk tag:0x0 idx:0x23>', '<MemBlk tag:0x0 idx:0x23>', '<MemBlk tag:0x0 idx:0x23>', '<MemBlk tag:0x0 idx:0x23>', '<MemBlk tag:0x0 idx:0x23>', '<MemBlk tag:0x0 idx:0x23>', '<MemBlk tag:0x0 idx:0x23>', '<MemBlk tag:0x0 idx:0x23>', '<MemBlk tag:0x0 idx:0x23>', '<MemBlk tag:0x0 idx:0x23>', '<MemBlk tag:0x0 idx:0x23>', '<MemBlk tag:0x0 idx:0x23>', '<MemBlk tag:0x0 idx:0x24>', '<MemBlk tag:0x0 idx:0x24>', '<MemBlk tag:0x0 idx:0x24>', '<MemBlk tag:0x0 idx:0x24>', '<MemBlk tag:0x4 idx:0x0>', '<MemBlk tag:0x4 idx:0x0>', '<MemBlk tag:0x4 idx:0x0>', '<MemBlk tag:0x4 idx:0x0>', '<MemBlk tag:0x4 idx:0x0>', '<MemBlk tag:0x4 idx:0x0>', '<MemBlk tag:0x4 idx:0x0>', '<MemBlk tag:0x4 idx:0x0>', '<MemBlk tag:0x4 idx:0x0>', '<MemBlk tag:0x0 idx:0x24>', '<MemBlk tag:0x0 idx:0x24>', '<MemBlk tag:0x0 idx:0x24>'] incoming ['n6'] outgoing ['n7']\n",
      "n16 access ['<MemBlk tag:0x0 idx:0x24>'] incoming [] outgoing []\n"
     ]
    }
   ],
   "source": [
    "f = r\"examples/example-1.in\"\n",
    "config, graph, user_kwargs = read_from_file(f)\n",
    "\n",
    "print(\"==== Cache Config ====\")\n",
    "print(\"Set index length:\", config.set_index_len)\n",
    "print(\"Cache offset:\", config.offset_len)\n",
    "print(\"Cache association:\", config.assoc)\n",
    "\n",
    "print(\"\\n==== TCFG ====\")\n",
    "for node in graph.all_nodes:\n",
    "    print(node.ident,\n",
    "          \"access\", [b.__str__() for b in node.access_blocks],\n",
    "          \"incoming\", [n.ident for n in node.incoming],\n",
    "          \"outgoing\", [n.ident for n in node.outgoing])\n"
   ],
   "metadata": {
    "collapsed": false,
    "ExecuteTime": {
     "start_time": "2023-04-02T21:35:20.103562Z",
     "end_time": "2023-04-02T21:35:20.107040Z"
    }
   }
  },
  {
   "cell_type": "code",
   "execution_count": 3,
   "outputs": [
    {
     "name": "stdout",
     "output_type": "stream",
     "text": [
      "True 5113\n"
     ]
    }
   ],
   "source": [
    "is_fixpoint = fixpoint(config, graph, 'must', **user_kwargs)  # Switch to `may` or `persistent`.\n",
    "print(is_fixpoint, graph.it_number)"
   ],
   "metadata": {
    "collapsed": false,
    "ExecuteTime": {
     "start_time": "2023-04-02T21:35:20.107040Z",
     "end_time": "2023-04-02T21:35:20.230639Z"
    }
   }
  },
  {
   "cell_type": "markdown",
   "source": [],
   "metadata": {
    "collapsed": false
   }
  },
  {
   "cell_type": "code",
   "execution_count": 4,
   "outputs": [
    {
     "name": "stdout",
     "output_type": "stream",
     "text": [
      "n0\n",
      "n1\n",
      "n2\n",
      "n3\n",
      "n4\n",
      "n5\n",
      "n6\n",
      "(2048, 2052) (<MemBlk tag:0x0 idx:0x20>,) [True]\n",
      "(2052, 2056) (<MemBlk tag:0x0 idx:0x20>,) [True]\n",
      "(2056, 2060) (<MemBlk tag:0x0 idx:0x20>,) [True]\n",
      "(2060, 2064) (<MemBlk tag:0x0 idx:0x20>,) [True]\n",
      "(2064, 2068) (<MemBlk tag:0x0 idx:0x20>,) [True]\n",
      "n7\n",
      "(2068, 2072) (<MemBlk tag:0x0 idx:0x20>,) [True]\n",
      "(2072, 2076) (<MemBlk tag:0x0 idx:0x20>,) [True]\n",
      "(2076, 2080) (<MemBlk tag:0x0 idx:0x20>,) [True]\n",
      "n8\n",
      "(2080, 2084) (<MemBlk tag:0x0 idx:0x20>,) [True]\n",
      "(2084, 2088) (<MemBlk tag:0x0 idx:0x20>,) [True]\n",
      "(2088, 2092) (<MemBlk tag:0x0 idx:0x20>,) [True]\n",
      "n9\n",
      "n10\n",
      "n11\n",
      "n12\n",
      "n13\n",
      "n14\n",
      "n15\n",
      "(2220, 2224) (<MemBlk tag:0x0 idx:0x22>,) [False]\n",
      "(2224, 2228) (<MemBlk tag:0x0 idx:0x22>,) [True]\n",
      "(2228, 2232) (<MemBlk tag:0x0 idx:0x22>,) [True]\n",
      "(2232, 2236) (<MemBlk tag:0x0 idx:0x22>,) [True]\n",
      "(2236, 2240) (<MemBlk tag:0x0 idx:0x22>,) [True]\n",
      "(2240, 2244) (<MemBlk tag:0x0 idx:0x23>,) [False]\n",
      "(2244, 2248) (<MemBlk tag:0x0 idx:0x23>,) [True]\n",
      "(2248, 2252) (<MemBlk tag:0x0 idx:0x23>,) [True]\n",
      "(2252, 2256) (<MemBlk tag:0x0 idx:0x23>,) [True]\n",
      "(2256, 2260) (<MemBlk tag:0x0 idx:0x23>,) [True]\n",
      "(2260, 2264) (<MemBlk tag:0x0 idx:0x23>,) [True]\n",
      "(2264, 2268) (<MemBlk tag:0x0 idx:0x23>,) [True]\n",
      "(2268, 2272) (<MemBlk tag:0x0 idx:0x23>,) [True]\n",
      "(2272, 2276) (<MemBlk tag:0x0 idx:0x23>,) [True]\n",
      "(2276, 2280) (<MemBlk tag:0x0 idx:0x23>,) [True]\n",
      "(2280, 2284) (<MemBlk tag:0x0 idx:0x23>,) [True]\n",
      "(2284, 2288) (<MemBlk tag:0x0 idx:0x23>,) [True]\n",
      "(2288, 2292) (<MemBlk tag:0x0 idx:0x23>,) [True]\n",
      "(2292, 2296) (<MemBlk tag:0x0 idx:0x23>,) [True]\n",
      "(2296, 2300) (<MemBlk tag:0x0 idx:0x23>,) [True]\n",
      "(2300, 2304) (<MemBlk tag:0x0 idx:0x23>,) [True]\n",
      "(2304, 2308) (<MemBlk tag:0x0 idx:0x24>,) [False]\n",
      "(2308, 2312) (<MemBlk tag:0x0 idx:0x24>,) [True]\n",
      "(2312, 2316) (<MemBlk tag:0x0 idx:0x24>,) [True]\n",
      "(2316, 2320) (<MemBlk tag:0x0 idx:0x24>,) [True]\n",
      "(65536, 65540) (<MemBlk tag:0x4 idx:0x0>,) [False]\n",
      "(65536, 65540) (<MemBlk tag:0x4 idx:0x0>,) [True]\n",
      "(65536, 65540) (<MemBlk tag:0x4 idx:0x0>,) [True]\n",
      "(65536, 65540) (<MemBlk tag:0x4 idx:0x0>,) [True]\n",
      "(65536, 65540) (<MemBlk tag:0x4 idx:0x0>,) [True]\n",
      "(65536, 65540) (<MemBlk tag:0x4 idx:0x0>,) [True]\n",
      "(65536, 65540) (<MemBlk tag:0x4 idx:0x0>,) [True]\n",
      "(65536, 65540) (<MemBlk tag:0x4 idx:0x0>,) [True]\n",
      "(65536, 65540) (<MemBlk tag:0x4 idx:0x0>,) [True]\n",
      "(2320, 2324) (<MemBlk tag:0x0 idx:0x24>,) [True]\n",
      "(2324, 2328) (<MemBlk tag:0x0 idx:0x24>,) [True]\n",
      "(2328, 2332) (<MemBlk tag:0x0 idx:0x24>,) [True]\n",
      "n16\n"
     ]
    }
   ],
   "source": [
    "considered_nodes = {'n8', 'n6', 'n15', 'n7'}\n",
    "\n",
    "for node in graph.all_nodes:\n",
    "    print(node.ident)\n",
    "    if node.ident not in considered_nodes:\n",
    "        continue\n",
    "    for r, mb, hit in node.analysis_result():\n",
    "        print(r, mb, hit)"
   ],
   "metadata": {
    "collapsed": false,
    "ExecuteTime": {
     "start_time": "2023-04-02T21:35:20.232632Z",
     "end_time": "2023-04-02T21:35:20.234821Z"
    }
   }
  }
 ],
 "metadata": {
  "kernelspec": {
   "display_name": "Python 3",
   "language": "python",
   "name": "python3"
  },
  "language_info": {
   "codemirror_mode": {
    "name": "ipython",
    "version": 2
   },
   "file_extension": ".py",
   "mimetype": "text/x-python",
   "name": "python",
   "nbconvert_exporter": "python",
   "pygments_lexer": "ipython2",
   "version": "2.7.6"
  }
 },
 "nbformat": 4,
 "nbformat_minor": 0
}
