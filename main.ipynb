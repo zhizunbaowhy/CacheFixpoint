{
 "cells": [
  {
   "cell_type": "code",
   "execution_count": 1,
   "metadata": {
    "collapsed": true,
    "ExecuteTime": {
     "start_time": "2023-04-01T15:16:43.712413Z",
     "end_time": "2023-04-01T15:16:43.718605Z"
    }
   },
   "outputs": [
    {
     "name": "stdout",
     "output_type": "stream",
     "text": [
      "sys.version_info(major=3, minor=11, micro=2, releaselevel='final', serial=0)\n"
     ]
    }
   ],
   "source": [
    "from fixpoint import *\n",
    "\n",
    "import sys\n",
    "print(sys.version_info)"
   ]
  },
  {
   "cell_type": "code",
   "execution_count": 2,
   "outputs": [
    {
     "name": "stdout",
     "output_type": "stream",
     "text": [
      "==== Cache Config ====\n",
      "Set index length: 8\n",
      "Cache offset: 6\n",
      "Cache association: 4\n",
      "\n",
      "==== TCFG ====\n",
      "n0 access ['<MemBlk tag:0x0 idx:0x1d>', '<MemBlk tag:0x0 idx:0x1e>'] incoming [] outgoing ['n3']\n",
      "n1 access ['<MemBlk tag:0x0 idx:0x1e>', '<MemBlk tag:0x0 idx:0x1f>'] incoming ['n13'] outgoing ['n14']\n",
      "n2 access ['<MemBlk tag:0x0 idx:0x1f>'] incoming ['n14'] outgoing []\n",
      "n3 access ['<MemBlk tag:0x0 idx:0x1f>'] incoming ['n0'] outgoing ['n12']\n",
      "n4 access ['<MemBlk tag:0x0 idx:0x1f>', '<MemBlk tag:0x0 idx:0x40>', '<MemBlk tag:0x0 idx:0x40>'] incoming ['n12'] outgoing ['n10']\n",
      "n5 access ['<MemBlk tag:0x0 idx:0x1f>', '<MemBlk tag:0x0 idx:0x40>', '<MemBlk tag:0x0 idx:0x40>'] incoming ['n10'] outgoing ['n8']\n",
      "n6 access ['<MemBlk tag:0x0 idx:0x20>'] incoming ['n8'] outgoing ['n15']\n",
      "n7 access ['<MemBlk tag:0x0 idx:0x20>'] incoming ['n15'] outgoing ['n8']\n",
      "n8 access ['<MemBlk tag:0x0 idx:0x20>'] incoming ['n5', 'n7'] outgoing ['n9', 'n6']\n",
      "n9 access ['<MemBlk tag:0x0 idx:0x20>'] incoming ['n8'] outgoing ['n10']\n",
      "n10 access ['<MemBlk tag:0x0 idx:0x20>', '<MemBlk tag:0x0 idx:0x21>'] incoming ['n4', 'n9'] outgoing ['n11', 'n5']\n",
      "n11 access ['<MemBlk tag:0x0 idx:0x21>'] incoming ['n10'] outgoing ['n12']\n",
      "n12 access ['<MemBlk tag:0x0 idx:0x21>'] incoming ['n3', 'n11'] outgoing ['n13', 'n4']\n",
      "n13 access ['<MemBlk tag:0x0 idx:0x21>'] incoming ['n12'] outgoing ['n1']\n",
      "n14 access ['<MemBlk tag:0x0 idx:0x19>'] incoming ['n1'] outgoing ['n2']\n",
      "n15 access ['<MemBlk tag:0x0 idx:0x22>', '<MemBlk tag:0x0 idx:0x23>', '<MemBlk tag:0x0 idx:0x24>'] incoming ['n6'] outgoing ['n7']\n"
     ]
    }
   ],
   "source": [
    "f = r\"examples/example-0.in\"\n",
    "config, graph, user_kwargs = read_from_file(f)\n",
    "\n",
    "print(\"==== Cache Config ====\")\n",
    "print(\"Set index length:\", config.set_index_len)\n",
    "print(\"Cache offset:\", config.offset_len)\n",
    "print(\"Cache association:\", config.assoc)\n",
    "\n",
    "print(\"\\n==== TCFG ====\")\n",
    "for node in graph.all_nodes:\n",
    "    print(node.ident,\n",
    "          \"access\", [b.__str__() for b in node.access_blocks],\n",
    "          \"incoming\", [n.ident for n in node.incoming],\n",
    "          \"outgoing\", [n.ident for n in node.outgoing])\n"
   ],
   "metadata": {
    "collapsed": false,
    "ExecuteTime": {
     "start_time": "2023-04-01T15:16:43.719609Z",
     "end_time": "2023-04-01T15:16:43.723086Z"
    }
   }
  },
  {
   "cell_type": "code",
   "execution_count": 3,
   "outputs": [
    {
     "name": "stdout",
     "output_type": "stream",
     "text": [
      "True 5056\n"
     ]
    }
   ],
   "source": [
    "is_fixpoint = fixpoint(config, graph, 'must', **user_kwargs)  # Switch to `may` or `persistent`.\n",
    "print(is_fixpoint, graph.it_number)"
   ],
   "metadata": {
    "collapsed": false,
    "ExecuteTime": {
     "start_time": "2023-04-01T15:16:43.723086Z",
     "end_time": "2023-04-01T15:16:43.846889Z"
    }
   }
  },
  {
   "cell_type": "code",
   "execution_count": 4,
   "outputs": [
    {
     "name": "stdout",
     "output_type": "stream",
     "text": [
      "n0\n",
      "<MemBlk tag:0x0 idx:0x1d> False\n",
      "<MemBlk tag:0x0 idx:0x1e> False\n",
      "n1\n",
      "<MemBlk tag:0x0 idx:0x1e> False\n",
      "<MemBlk tag:0x0 idx:0x1f> False\n",
      "n2\n",
      "<MemBlk tag:0x0 idx:0x1f> True\n",
      "n3\n",
      "<MemBlk tag:0x0 idx:0x1f> False\n",
      "n4\n",
      "<MemBlk tag:0x0 idx:0x1f> False\n",
      "<MemBlk tag:0x0 idx:0x40> False\n",
      "<MemBlk tag:0x0 idx:0x40> True\n",
      "n5\n",
      "<MemBlk tag:0x0 idx:0x1f> False\n",
      "<MemBlk tag:0x0 idx:0x40> False\n",
      "<MemBlk tag:0x0 idx:0x40> True\n",
      "n6\n",
      "<MemBlk tag:0x0 idx:0x20> True\n",
      "n7\n",
      "<MemBlk tag:0x0 idx:0x20> True\n",
      "n8\n",
      "<MemBlk tag:0x0 idx:0x20> True\n",
      "n9\n",
      "<MemBlk tag:0x0 idx:0x20> True\n",
      "n10\n",
      "<MemBlk tag:0x0 idx:0x20> False\n",
      "<MemBlk tag:0x0 idx:0x21> False\n",
      "n11\n",
      "<MemBlk tag:0x0 idx:0x21> True\n",
      "n12\n",
      "<MemBlk tag:0x0 idx:0x21> False\n",
      "n13\n",
      "<MemBlk tag:0x0 idx:0x21> True\n",
      "n14\n",
      "<MemBlk tag:0x0 idx:0x19> False\n",
      "n15\n",
      "<MemBlk tag:0x0 idx:0x22> False\n",
      "<MemBlk tag:0x0 idx:0x23> False\n",
      "<MemBlk tag:0x0 idx:0x24> False\n"
     ]
    }
   ],
   "source": [
    "for node in graph.all_nodes:\n",
    "    print(node.ident)\n",
    "    for block, is_hit in zip(node.access_blocks, node.is_hit):\n",
    "        print(block, is_hit)"
   ],
   "metadata": {
    "collapsed": false,
    "ExecuteTime": {
     "start_time": "2023-04-01T15:16:43.848627Z",
     "end_time": "2023-04-01T15:16:43.850128Z"
    }
   }
  }
 ],
 "metadata": {
  "kernelspec": {
   "display_name": "Python 3",
   "language": "python",
   "name": "python3"
  },
  "language_info": {
   "codemirror_mode": {
    "name": "ipython",
    "version": 2
   },
   "file_extension": ".py",
   "mimetype": "text/x-python",
   "name": "python",
   "nbconvert_exporter": "python",
   "pygments_lexer": "ipython2",
   "version": "2.7.6"
  }
 },
 "nbformat": 4,
 "nbformat_minor": 0
}
