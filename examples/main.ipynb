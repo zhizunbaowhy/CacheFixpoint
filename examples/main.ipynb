{
 "cells": [
  {
   "cell_type": "code",
   "execution_count": 1,
   "metadata": {
    "collapsed": true,
    "ExecuteTime": {
     "start_time": "2023-03-31T14:17:33.728734Z",
     "end_time": "2023-03-31T14:17:33.736493Z"
    }
   },
   "outputs": [],
   "source": [
    "import pprint\n",
    "\n",
    "from samples.read_from_file import read_from_file"
   ]
  },
  {
   "cell_type": "code",
   "execution_count": 2,
   "outputs": [
    {
     "name": "stdout",
     "output_type": "stream",
     "text": [
      "{'access': {'n0': ((196608, 74547), (209698, 209699), (17186, 17187)),\n",
      "            'n1': ((12834, 3322),)},\n",
      " 'cache_cap': '32768',\n",
      " 'edges': [('n1', 'n2'), ('n0', 'n1')],\n",
      " 'nodes': ['n0', 'n1', 'n2', 'n4'],\n",
      " 'start_node': 'n0'}\n"
     ]
    }
   ],
   "source": [
    "results = read_from_file(f\"inputs/a1.txt\")\n",
    "pprint.pprint(results)"
   ],
   "metadata": {
    "collapsed": false,
    "ExecuteTime": {
     "start_time": "2023-03-31T14:17:33.736493Z",
     "end_time": "2023-03-31T14:17:33.741572Z"
    }
   }
  },
  {
   "cell_type": "code",
   "execution_count": 2,
   "outputs": [],
   "source": [],
   "metadata": {
    "collapsed": false,
    "ExecuteTime": {
     "start_time": "2023-03-31T14:17:33.741985Z",
     "end_time": "2023-03-31T14:17:33.743496Z"
    }
   }
  }
 ],
 "metadata": {
  "kernelspec": {
   "display_name": "Python 3",
   "language": "python",
   "name": "python3"
  },
  "language_info": {
   "codemirror_mode": {
    "name": "ipython",
    "version": 2
   },
   "file_extension": ".py",
   "mimetype": "text/x-python",
   "name": "python",
   "nbconvert_exporter": "python",
   "pygments_lexer": "ipython2",
   "version": "2.7.6"
  }
 },
 "nbformat": 4,
 "nbformat_minor": 0
}
