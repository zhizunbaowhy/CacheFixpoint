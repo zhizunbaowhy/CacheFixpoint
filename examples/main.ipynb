{
 "cells": [
  {
   "cell_type": "code",
   "execution_count": 1,
   "metadata": {
    "collapsed": true,
    "ExecuteTime": {
     "start_time": "2023-03-31T14:28:48.739607Z",
     "end_time": "2023-03-31T14:28:48.744619Z"
    }
   },
   "outputs": [],
   "source": [
    "import pprint\n",
    "\n",
    "from samples.read_from_file import read_from_file"
   ]
  },
  {
   "cell_type": "code",
   "execution_count": 2,
   "outputs": [
    {
     "ename": "ValueError",
     "evalue": "An error was encountered while processing line 10.\n<:Line Content:> n1->n2\n<:Error Details:> Unrecognized line. Do you forget [;]?\n",
     "output_type": "error",
     "traceback": [
      "\u001B[1;31m---------------------------------------------------------------------------\u001B[0m",
      "\u001B[1;31mValueError\u001B[0m                                Traceback (most recent call last)",
      "File \u001B[1;32mD:\\workspace\\CacheFixpoint\\samples\\read_from_file.py:65\u001B[0m, in \u001B[0;36mparser\u001B[1;34m(text)\u001B[0m\n\u001B[0;32m     64\u001B[0m \u001B[38;5;250m    \u001B[39m\u001B[38;5;124;03m\"\"\" Do not matched to any one pattern. \"\"\"\u001B[39;00m\n\u001B[1;32m---> 65\u001B[0m     \u001B[38;5;28;01mraise\u001B[39;00m \u001B[38;5;167;01mValueError\u001B[39;00m(\u001B[38;5;124m\"\u001B[39m\u001B[38;5;124mUnrecognized line.\u001B[39m\u001B[38;5;124m\"\u001B[39m)\n\u001B[0;32m     66\u001B[0m \u001B[38;5;28;01mexcept\u001B[39;00m \u001B[38;5;167;01mException\u001B[39;00m \u001B[38;5;28;01mas\u001B[39;00m e:\n",
      "\u001B[1;31mValueError\u001B[0m: Unrecognized line.",
      "\nDuring handling of the above exception, another exception occurred:\n",
      "\u001B[1;31mValueError\u001B[0m                                Traceback (most recent call last)",
      "Cell \u001B[1;32mIn[2], line 1\u001B[0m\n\u001B[1;32m----> 1\u001B[0m results \u001B[38;5;241m=\u001B[39m \u001B[43mread_from_file\u001B[49m\u001B[43m(\u001B[49m\u001B[38;5;124;43mf\u001B[39;49m\u001B[38;5;124;43m\"\u001B[39;49m\u001B[38;5;124;43minputs/a1.txt\u001B[39;49m\u001B[38;5;124;43m\"\u001B[39;49m\u001B[43m)\u001B[49m\n\u001B[0;32m      2\u001B[0m pprint\u001B[38;5;241m.\u001B[39mpprint(results)\n",
      "File \u001B[1;32mD:\\workspace\\CacheFixpoint\\samples\\read_from_file.py:79\u001B[0m, in \u001B[0;36mread_from_file\u001B[1;34m(f)\u001B[0m\n\u001B[0;32m     77\u001B[0m \u001B[38;5;28;01mwith\u001B[39;00m \u001B[38;5;28mopen\u001B[39m(f, \u001B[38;5;124m'\u001B[39m\u001B[38;5;124mr\u001B[39m\u001B[38;5;124m'\u001B[39m, encoding\u001B[38;5;241m=\u001B[39m\u001B[38;5;124m'\u001B[39m\u001B[38;5;124mutf-8\u001B[39m\u001B[38;5;124m'\u001B[39m) \u001B[38;5;28;01mas\u001B[39;00m fp:\n\u001B[0;32m     78\u001B[0m     text \u001B[38;5;241m=\u001B[39m fp\u001B[38;5;241m.\u001B[39mreadlines()\n\u001B[1;32m---> 79\u001B[0m \u001B[38;5;28;01mreturn\u001B[39;00m \u001B[43mparser\u001B[49m\u001B[43m(\u001B[49m\u001B[43mtext\u001B[49m\u001B[43m)\u001B[49m\n",
      "File \u001B[1;32mD:\\workspace\\CacheFixpoint\\samples\\read_from_file.py:70\u001B[0m, in \u001B[0;36mparser\u001B[1;34m(text)\u001B[0m\n\u001B[0;32m     68\u001B[0m         \u001B[38;5;28;01mif\u001B[39;00m \u001B[38;5;124m'\u001B[39m\u001B[38;5;124m;\u001B[39m\u001B[38;5;124m'\u001B[39m \u001B[38;5;129;01mnot\u001B[39;00m \u001B[38;5;129;01min\u001B[39;00m line:\n\u001B[0;32m     69\u001B[0m             hint \u001B[38;5;241m=\u001B[39m \u001B[38;5;124m\"\u001B[39m\u001B[38;5;124mDo you forget [;]?\u001B[39m\u001B[38;5;124m\"\u001B[39m\n\u001B[1;32m---> 70\u001B[0m         \u001B[38;5;28;01mraise\u001B[39;00m \u001B[38;5;167;01mValueError\u001B[39;00m(\u001B[38;5;124m\"\u001B[39m\u001B[38;5;124mAn error was encountered while processing line \u001B[39m\u001B[38;5;132;01m{}\u001B[39;00m\u001B[38;5;124m.\u001B[39m\u001B[38;5;130;01m\\n\u001B[39;00m\u001B[38;5;124m\"\u001B[39m\n\u001B[0;32m     71\u001B[0m                          \u001B[38;5;124m\"\u001B[39m\u001B[38;5;124m<:Line Content:> \u001B[39m\u001B[38;5;132;01m{}\u001B[39;00m\u001B[38;5;130;01m\\n\u001B[39;00m\u001B[38;5;124m\"\u001B[39m\n\u001B[0;32m     72\u001B[0m                          \u001B[38;5;124m\"\u001B[39m\u001B[38;5;124m<:Error Details:> \u001B[39m\u001B[38;5;132;01m{}\u001B[39;00m\u001B[38;5;124m \u001B[39m\u001B[38;5;132;01m{}\u001B[39;00m\u001B[38;5;130;01m\\n\u001B[39;00m\u001B[38;5;124m\"\u001B[39m\u001B[38;5;241m.\u001B[39mformat(idx, line, e\u001B[38;5;241m.\u001B[39m\u001B[38;5;21m__str__\u001B[39m(), hint))\n\u001B[0;32m     73\u001B[0m \u001B[38;5;28;01mreturn\u001B[39;00m results\n",
      "\u001B[1;31mValueError\u001B[0m: An error was encountered while processing line 10.\n<:Line Content:> n1->n2\n<:Error Details:> Unrecognized line. Do you forget [;]?\n"
     ]
    }
   ],
   "source": [
    "results = read_from_file(f\"inputs/a1.txt\")\n",
    "pprint.pprint(results)"
   ],
   "metadata": {
    "collapsed": false,
    "ExecuteTime": {
     "start_time": "2023-03-31T14:17:33.736493Z",
     "end_time": "2023-03-31T14:17:33.741572Z"
    }
   }
  },
  {
   "cell_type": "code",
   "execution_count": null,
   "outputs": [],
   "source": [],
   "metadata": {
    "collapsed": false,
    "ExecuteTime": {
     "start_time": "2023-03-31T14:17:33.741985Z",
     "end_time": "2023-03-31T14:17:33.743496Z"
    }
   }
  }
 ],
 "metadata": {
  "kernelspec": {
   "display_name": "Python 3",
   "language": "python",
   "name": "python3"
  },
  "language_info": {
   "codemirror_mode": {
    "name": "ipython",
    "version": 2
   },
   "file_extension": ".py",
   "mimetype": "text/x-python",
   "name": "python",
   "nbconvert_exporter": "python",
   "pygments_lexer": "ipython2",
   "version": "2.7.6"
  }
 },
 "nbformat": 4,
 "nbformat_minor": 0
}
